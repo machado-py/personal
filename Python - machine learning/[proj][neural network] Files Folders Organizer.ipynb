{
 "cells": [
  {
   "cell_type": "code",
   "execution_count": 1,
   "metadata": {},
   "outputs": [],
   "source": [
    "import glob\n",
    "import pandas as pd\n",
    "import numpy as np\n",
    "import shutil\n",
    "import matplotlib.pyplot as plt"
   ]
  },
  {
   "cell_type": "code",
   "execution_count": null,
   "metadata": {},
   "outputs": [],
   "source": [
    "import os\n",
    "\n",
    "# criando pastas adicionais no mesmo local que o arquivo ipynb \n",
    "os.chdir(os.getcwd())\n",
    "\n",
    "# criando as pastas de treino, validação e teste com as pastas de cat/dog dentro de cada uma\n",
    "for dir in ['1_train', '2_val', '3_test']:\n",
    "    os.mkdir(dir)\n",
    "    os.mkdir(os.path.join(dir, 'cat'))\n",
    "    os.mkdir(os.path.join(dir, 'dog'))"
   ]
  },
  {
   "cell_type": "code",
   "execution_count": 4,
   "metadata": {},
   "outputs": [
    {
     "data": {
      "text/html": [
       "<div>\n",
       "<style scoped>\n",
       "    .dataframe tbody tr th:only-of-type {\n",
       "        vertical-align: middle;\n",
       "    }\n",
       "\n",
       "    .dataframe tbody tr th {\n",
       "        vertical-align: top;\n",
       "    }\n",
       "\n",
       "    .dataframe thead th {\n",
       "        text-align: right;\n",
       "    }\n",
       "</style>\n",
       "<table border=\"1\" class=\"dataframe\">\n",
       "  <thead>\n",
       "    <tr style=\"text-align: right;\">\n",
       "      <th></th>\n",
       "      <th>full_path</th>\n",
       "    </tr>\n",
       "  </thead>\n",
       "  <tbody>\n",
       "    <tr>\n",
       "      <th>0</th>\n",
       "      <td>C:/Users/mmm_n/Documents/00_MMM/01_Repositorio...</td>\n",
       "    </tr>\n",
       "    <tr>\n",
       "      <th>1</th>\n",
       "      <td>C:/Users/mmm_n/Documents/00_MMM/01_Repositorio...</td>\n",
       "    </tr>\n",
       "    <tr>\n",
       "      <th>2</th>\n",
       "      <td>C:/Users/mmm_n/Documents/00_MMM/01_Repositorio...</td>\n",
       "    </tr>\n",
       "    <tr>\n",
       "      <th>3</th>\n",
       "      <td>C:/Users/mmm_n/Documents/00_MMM/01_Repositorio...</td>\n",
       "    </tr>\n",
       "    <tr>\n",
       "      <th>4</th>\n",
       "      <td>C:/Users/mmm_n/Documents/00_MMM/01_Repositorio...</td>\n",
       "    </tr>\n",
       "  </tbody>\n",
       "</table>\n",
       "</div>"
      ],
      "text/plain": [
       "                                           full_path\n",
       "0  C:/Users/mmm_n/Documents/00_MMM/01_Repositorio...\n",
       "1  C:/Users/mmm_n/Documents/00_MMM/01_Repositorio...\n",
       "2  C:/Users/mmm_n/Documents/00_MMM/01_Repositorio...\n",
       "3  C:/Users/mmm_n/Documents/00_MMM/01_Repositorio...\n",
       "4  C:/Users/mmm_n/Documents/00_MMM/01_Repositorio..."
      ]
     },
     "execution_count": 4,
     "metadata": {},
     "output_type": "execute_result"
    }
   ],
   "source": [
    "dir_name= 'C:/Users/Projeto/dataset/rn_images/*/*'\n",
    "pets_df = pd.DataFrame(glob.glob(dir_name), columns=['full_path'])\n",
    "pets_df.head()"
   ]
  },
  {
   "cell_type": "code",
   "execution_count": 5,
   "metadata": {},
   "outputs": [
    {
     "data": {
      "text/plain": [
       "jpg    7390\n",
       "mat       3\n",
       "cat       2\n",
       "dog       2\n",
       "Name: ext, dtype: int64"
      ]
     },
     "execution_count": 5,
     "metadata": {},
     "output_type": "execute_result"
    }
   ],
   "source": [
    "# verificando as extensões -------------------------------------------------------\n",
    "pets_df['ext'] = pets_df['full_path'].apply(lambda x: x[-3:])\n",
    "pets_df['ext'].value_counts()"
   ]
  },
  {
   "cell_type": "code",
   "execution_count": 6,
   "metadata": {},
   "outputs": [
    {
     "data": {
      "text/plain": [
       "jpg    7390\n",
       "Name: ext, dtype: int64"
      ]
     },
     "execution_count": 6,
     "metadata": {},
     "output_type": "execute_result"
    }
   ],
   "source": [
    "pets_df = pets_df[pets_df['ext']=='jpg']\n",
    "pets_df['ext'].value_counts()"
   ]
  },
  {
   "cell_type": "code",
   "execution_count": 7,
   "metadata": {},
   "outputs": [
    {
     "data": {
      "text/html": [
       "<div>\n",
       "<style scoped>\n",
       "    .dataframe tbody tr th:only-of-type {\n",
       "        vertical-align: middle;\n",
       "    }\n",
       "\n",
       "    .dataframe tbody tr th {\n",
       "        vertical-align: top;\n",
       "    }\n",
       "\n",
       "    .dataframe thead th {\n",
       "        text-align: right;\n",
       "    }\n",
       "</style>\n",
       "<table border=\"1\" class=\"dataframe\">\n",
       "  <thead>\n",
       "    <tr style=\"text-align: right;\">\n",
       "      <th></th>\n",
       "      <th>full_path</th>\n",
       "      <th>ext</th>\n",
       "      <th>filename</th>\n",
       "      <th>target</th>\n",
       "      <th>class</th>\n",
       "    </tr>\n",
       "  </thead>\n",
       "  <tbody>\n",
       "    <tr>\n",
       "      <th>0</th>\n",
       "      <td>C:/Users/mmm_n/Documents/00_MMM/01_Repositorio...</td>\n",
       "      <td>jpg</td>\n",
       "      <td>Abyssinian_1.jpg</td>\n",
       "      <td>cat</td>\n",
       "      <td>Abyssinian</td>\n",
       "    </tr>\n",
       "    <tr>\n",
       "      <th>1</th>\n",
       "      <td>C:/Users/mmm_n/Documents/00_MMM/01_Repositorio...</td>\n",
       "      <td>jpg</td>\n",
       "      <td>Abyssinian_10.jpg</td>\n",
       "      <td>cat</td>\n",
       "      <td>Abyssinian</td>\n",
       "    </tr>\n",
       "    <tr>\n",
       "      <th>2</th>\n",
       "      <td>C:/Users/mmm_n/Documents/00_MMM/01_Repositorio...</td>\n",
       "      <td>jpg</td>\n",
       "      <td>Abyssinian_100.jpg</td>\n",
       "      <td>cat</td>\n",
       "      <td>Abyssinian</td>\n",
       "    </tr>\n",
       "    <tr>\n",
       "      <th>4</th>\n",
       "      <td>C:/Users/mmm_n/Documents/00_MMM/01_Repositorio...</td>\n",
       "      <td>jpg</td>\n",
       "      <td>Abyssinian_101.jpg</td>\n",
       "      <td>cat</td>\n",
       "      <td>Abyssinian</td>\n",
       "    </tr>\n",
       "    <tr>\n",
       "      <th>6</th>\n",
       "      <td>C:/Users/mmm_n/Documents/00_MMM/01_Repositorio...</td>\n",
       "      <td>jpg</td>\n",
       "      <td>Abyssinian_102.jpg</td>\n",
       "      <td>cat</td>\n",
       "      <td>Abyssinian</td>\n",
       "    </tr>\n",
       "  </tbody>\n",
       "</table>\n",
       "</div>"
      ],
      "text/plain": [
       "                                           full_path  ext            filename  \\\n",
       "0  C:/Users/mmm_n/Documents/00_MMM/01_Repositorio...  jpg    Abyssinian_1.jpg   \n",
       "1  C:/Users/mmm_n/Documents/00_MMM/01_Repositorio...  jpg   Abyssinian_10.jpg   \n",
       "2  C:/Users/mmm_n/Documents/00_MMM/01_Repositorio...  jpg  Abyssinian_100.jpg   \n",
       "4  C:/Users/mmm_n/Documents/00_MMM/01_Repositorio...  jpg  Abyssinian_101.jpg   \n",
       "6  C:/Users/mmm_n/Documents/00_MMM/01_Repositorio...  jpg  Abyssinian_102.jpg   \n",
       "\n",
       "  target       class  \n",
       "0    cat  Abyssinian  \n",
       "1    cat  Abyssinian  \n",
       "2    cat  Abyssinian  \n",
       "4    cat  Abyssinian  \n",
       "6    cat  Abyssinian  "
      ]
     },
     "execution_count": 7,
     "metadata": {},
     "output_type": "execute_result"
    }
   ],
   "source": [
    "pets_df['full_path'] = pets_df['full_path'].apply(lambda x: x.replace(\"\\\\\", \"/\"))\n",
    "pets_df['filename'] = pets_df['full_path'].apply(lambda x: x.split(\"/\")[-1])\n",
    "pets_df['target'] = pets_df['filename'].apply(lambda x:  'cat' if x[0].isupper() else \"dog\"  )\n",
    "pets_df['class'] = pets_df['filename'].apply(lambda x: x.split(\"_\")[0])\n",
    "pets_df.head()"
   ]
  },
  {
   "cell_type": "code",
   "execution_count": 8,
   "metadata": {},
   "outputs": [
    {
     "data": {
      "text/plain": [
       "'C:/Users/mmm_n/Documents/00_MMM/01_Repositorio_Conhecimento/00_CURSOS/16_LETs CODE/Degree Data Science/MOD14_RedesNeurais/Projeto/dataset/rn_images/cat/Abyssinian_1.jpg'"
      ]
     },
     "execution_count": 8,
     "metadata": {},
     "output_type": "execute_result"
    }
   ],
   "source": [
    "pets_df['full_path'][0]"
   ]
  },
  {
   "cell_type": "code",
   "execution_count": 9,
   "metadata": {},
   "outputs": [
    {
     "data": {
      "text/plain": [
       "dog    4990\n",
       "cat    2400\n",
       "Name: target, dtype: int64"
      ]
     },
     "execution_count": 9,
     "metadata": {},
     "output_type": "execute_result"
    }
   ],
   "source": [
    "pets_df['target'].value_counts()"
   ]
  },
  {
   "cell_type": "code",
   "execution_count": 50,
   "metadata": {},
   "outputs": [],
   "source": [
    "# mover as fotos para as pastas cat e dog =================================================\n",
    "\n",
    "# definindo os destinos \n",
    "dest_cat = dir_name[:-1] + 'cat'\n",
    "dest_dog = dir_name[:-1] + 'dog'\n",
    " \n",
    "# movendo os arquivos\n",
    "for f in pets_df.iterrows():\n",
    "    src_path = f[1][0]\n",
    "    if f[1][3] == 'cat':\n",
    "        shutil.move(src_path, dest_cat)\n",
    "        #shutil.copy(src_path, dest_cat)\n",
    "    else:\n",
    "        shutil.move(src_path, dest_dog)\n",
    "        #shutil.copy(src_path, dest_dog)"
   ]
  },
  {
   "cell_type": "code",
   "execution_count": 14,
   "metadata": {},
   "outputs": [
    {
     "name": "stdout",
     "output_type": "stream",
     "text": [
      "Treino: (5173, 5) \tValidação: (1477, 5), \tTeste: (740, 5)\n"
     ]
    }
   ],
   "source": [
    "# fazendo uma cópia das fotos para criar a arquitetura de pastas com treino, validação e teste\n",
    "# ---------------------------------------------------------------------------------------------\n",
    "train_pct = 0.7\n",
    "val_pct = 0.2\n",
    "\n",
    "# pegando de forma aleatória as porcentagens de treino, validação e teste\n",
    "df_train, df_val, df_test = np.split(pets_df.sample(frac=1, random_state=42), \n",
    "                                [int(train_pct*len(pets_df)), int((train_pct+val_pct)*len(pets_df))])\n",
    "\n",
    "print(f\"Treino: {df_train.shape} \\tValidação: {df_val.shape}, \\tTeste: {df_test.shape}\")"
   ]
  },
  {
   "cell_type": "code",
   "execution_count": 15,
   "metadata": {},
   "outputs": [],
   "source": [
    "# definindo as pastas\n",
    "dir_name = 'C:/Users/Projeto/dataset/rn_images/'\n",
    "dir_train = dir_name+'1_train/'\n",
    "dir_val = dir_name+'2_val/'\n",
    "dir_test = dir_name+'3_test/'\n",
    "\n",
    "# copiando os arquivos para cada pasta de treino ---------------------------\n",
    "dest_cat = dir_train + 'cat'\n",
    "dest_dog = dir_train + 'dog'\n",
    "\n",
    "for f in df_train.iterrows():\n",
    "    src_path = f[1][0]\n",
    "    if f[1][3] == 'cat':\n",
    "        shutil.copy(src_path, dest_cat)\n",
    "    else:\n",
    "        shutil.copy(src_path, dest_dog)\n",
    "\n",
    "# copiando os arquivos para cada pasta de validação ---------------------------\n",
    "dest_cat = dir_val + 'cat'\n",
    "dest_dog = dir_val + 'dog'\n",
    "\n",
    "for f in df_val.iterrows():\n",
    "    src_path = f[1][0]\n",
    "    if f[1][3] == 'cat':\n",
    "        shutil.copy(src_path, dest_cat)\n",
    "    else:\n",
    "        shutil.copy(src_path, dest_dog)\n",
    "\n",
    "# # copiando os arquivos para cada pasta de teste ---------------------------\n",
    "dest_cat = dir_test + 'cat'\n",
    "dest_dog = dir_test + 'dog'\n",
    "\n",
    "for f in df_test.iterrows():\n",
    "    src_path = f[1][0]\n",
    "    if f[1][3] == 'cat':\n",
    "        shutil.copy(src_path, dest_cat)\n",
    "    else:\n",
    "        shutil.copy(src_path, dest_dog)"
   ]
  }
 ],
 "metadata": {
  "kernelspec": {
   "display_name": "Python 3.9.7 64-bit",
   "language": "python",
   "name": "python3"
  },
  "language_info": {
   "codemirror_mode": {
    "name": "ipython",
    "version": 3
   },
   "file_extension": ".py",
   "mimetype": "text/x-python",
   "name": "python",
   "nbconvert_exporter": "python",
   "pygments_lexer": "ipython3",
   "version": "3.9.7"
  },
  "orig_nbformat": 4,
  "vscode": {
   "interpreter": {
    "hash": "c0d3f0ed3089cd13411b5a2ebe388e4aa58e262e30ca5148dcd7bf493791b26c"
   }
  }
 },
 "nbformat": 4,
 "nbformat_minor": 2
}
