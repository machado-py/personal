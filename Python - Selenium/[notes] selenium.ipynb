{
 "cells": [
  {
   "cell_type": "code",
   "execution_count": 5,
   "metadata": {},
   "outputs": [],
   "source": [
    "from selenium import webdriver\n",
    "from selenium.webdriver.common.by import By\n",
    "from selenium.webdriver.common.keys import Keys\n",
    "import pandas as pd"
   ]
  },
  {
   "cell_type": "markdown",
   "metadata": {},
   "source": [
    "---  \n",
    "### Exemplo 01"
   ]
  },
  {
   "cell_type": "code",
   "execution_count": 12,
   "metadata": {},
   "outputs": [
    {
     "name": "stderr",
     "output_type": "stream",
     "text": [
      "C:\\Users\\mmm_n\\AppData\\Local\\Temp/ipykernel_2356/3613515102.py:5: DeprecationWarning: executable_path has been deprecated, please pass in a Service object\n",
      "  nav = webdriver.Chrome(executable_path=r'./chromedriver.exe')\n"
     ]
    },
    {
     "name": "stdout",
     "output_type": "stream",
     "text": [
      "Cotação do dia 2022-10-28 12:04:12.479788\n",
      "usd: 5.34\teur: 5.31\n"
     ]
    }
   ],
   "source": [
    "# abrindo um novegador e acessando google\n",
    "from datetime import datetime\n",
    "\n",
    "\n",
    "nav = webdriver.Chrome(executable_path=r'./chromedriver.exe')\n",
    "nav.get('https://www.google.com.br')\n",
    "\n",
    "# para identificar o objeto no crome, \n",
    "# 1) inspecionar um objeto qualquer\n",
    "# 2) clicar na seta no canto superior esquerdo\n",
    "# 3) clicar sobre o campo que vc quer interagir\n",
    "# 4) clicar sobre o botão direito sobre o código e Copiar > XPath\n",
    "\n",
    "# buscando cotação dolar\n",
    "#nav.find_element(By.XPATH, '/html/body/div[1]/div[3]/form/div[1]/div[1]/div[1]/div/div[2]/input').send_keys('cotação dolar')\n",
    "#nav.find_element(By.XPATH, '/html/body/div[1]/div[3]/form/div[1]/div[1]/div[1]/div/div[2]/input').send_keys(Keys.ENTER)\n",
    "#outra forma de fazer\n",
    "nav.find_element(By.XPATH, '/html/body/div[1]/div[3]/form/div[1]/div[1]/div[1]/div/div[2]/input').send_keys('cotação dolar' + Keys.ENTER)\n",
    "\n",
    "# pegando a informção do site\n",
    "usd = nav.find_element(By.XPATH, '//*[@id=\"knowledge-currency__updatable-data-column\"]/div[1]/div[2]/span[1]').get_attribute('data-value')\n",
    "\n",
    "# agora, buscando euro\n",
    "nav.find_element(By.XPATH, '//*[@id=\"tsf\"]/div[1]/div[1]/div[2]/div/div[2]/input').clear()\n",
    "nav.find_element(By.XPATH, '//*[@id=\"tsf\"]/div[1]/div[1]/div[2]/div/div[2]/input').send_keys('cotação euro' + Keys.ENTER)\n",
    "eur = nav.find_element(By.XPATH, '//*[@id=\"knowledge-currency__updatable-data-column\"]/div[1]/div[2]/span[1]').get_attribute('data-value')\n",
    "nav.quit()\n",
    "\n",
    "print(\"Cotação do dia\", datetime.today())\n",
    "print(f\"usd: {float(usd):.2f}\\teur: {float(eur):.2f}\")"
   ]
  },
  {
   "cell_type": "code",
   "execution_count": 13,
   "metadata": {},
   "outputs": [
    {
     "name": "stderr",
     "output_type": "stream",
     "text": [
      "C:\\Users\\mmm_n\\AppData\\Local\\Temp/ipykernel_2356/1193405857.py:3: DeprecationWarning: executable_path has been deprecated, please pass in a Service object\n",
      "  nav = webdriver.Chrome(executable_path=r'./chromedriver.exe')\n"
     ]
    },
    {
     "name": "stdout",
     "output_type": "stream",
     "text": [
      "Cotação do outro: 282.46\n"
     ]
    }
   ],
   "source": [
    "# pegando agora a cotação do ouro\n",
    "site = 'https://www.melhorcambio.com/ouro-hoje'\n",
    "nav = webdriver.Chrome(executable_path=r'./chromedriver.exe')\n",
    "nav.get(site)\n",
    "\n",
    "ouro = nav.find_element(By.XPATH, '//*[@id=\"comercial\"]').get_attribute('value')\n",
    "ouro = float(ouro.replace(',','.'))\n",
    "nav.quit()\n",
    "\n",
    "print(f\"Cotação do outro: {ouro}\")"
   ]
  }
 ],
 "metadata": {
  "kernelspec": {
   "display_name": "Python 3.9.7 64-bit",
   "language": "python",
   "name": "python3"
  },
  "language_info": {
   "codemirror_mode": {
    "name": "ipython",
    "version": 3
   },
   "file_extension": ".py",
   "mimetype": "text/x-python",
   "name": "python",
   "nbconvert_exporter": "python",
   "pygments_lexer": "ipython3",
   "version": "3.9.7"
  },
  "orig_nbformat": 4,
  "vscode": {
   "interpreter": {
    "hash": "c0d3f0ed3089cd13411b5a2ebe388e4aa58e262e30ca5148dcd7bf493791b26c"
   }
  }
 },
 "nbformat": 4,
 "nbformat_minor": 2
}
