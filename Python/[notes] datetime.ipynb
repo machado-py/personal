{
 "cells": [
  {
   "cell_type": "code",
   "execution_count": 1,
   "metadata": {},
   "outputs": [],
   "source": [
    "import pandas as pd\n",
    "import datetime"
   ]
  },
  {
   "cell_type": "markdown",
   "metadata": {},
   "source": [
    "---  "
   ]
  },
  {
   "cell_type": "code",
   "execution_count": 5,
   "metadata": {},
   "outputs": [
    {
     "name": "stdout",
     "output_type": "stream",
     "text": [
      "2017-09-03 00:00:00\n",
      "\n",
      " DatetimeIndex(['2017-09-14', '2017-09-09', '2017-09-25', '2017-09-30'], dtype='datetime64[ns]', freq=None)\n",
      "\n",
      " [ True  True False False]\n"
     ]
    },
    {
     "name": "stderr",
     "output_type": "stream",
     "text": [
      "C:\\Users\\mmm_n\\AppData\\Local\\Temp/ipykernel_4232/600304967.py:7: UserWarning: Parsing '25-09-2017' in DD/MM/YYYY format. Provide format or specify infer_datetime_format=True for consistent parsing.\n",
      "  dates_to_be_searched = pd.to_datetime(datelist, infer_datetime_format=True)\n"
     ]
    }
   ],
   "source": [
    "# task1\n",
    "dates = pd.date_range(start='2017-09-01', end='2017-09-15')\n",
    "print(dates[2])\n",
    "\n",
    "# task2\n",
    "datelist = ['14-Sep-2017', '9-Sep-2017', '25-09-2017', '09-30-2017']\n",
    "dates_to_be_searched = pd.to_datetime(datelist, infer_datetime_format=True)\n",
    "print(\"\\n\", dates_to_be_searched)\n",
    "\n",
    "# task3\n",
    "print(\"\\n\", dates_to_be_searched.isin(dates))"
   ]
  },
  {
   "cell_type": "markdown",
   "metadata": {},
   "source": [
    "---  "
   ]
  },
  {
   "cell_type": "code",
   "execution_count": null,
   "metadata": {},
   "outputs": [],
   "source": [
    "data_cols  = [\"sentiment\", \"ids\", \"date\", \"flag\", \"user\", \"text\"]\n",
    "data_encoding = \"ISO-8859-1\"\n",
    "tweets = pd.read_csv('data/tweets_dataset.csv', encoding=data_encoding, names=data_cols)"
   ]
  },
  {
   "cell_type": "code",
   "execution_count": null,
   "metadata": {},
   "outputs": [],
   "source": [
    "# tratando a data\n",
    "tweets['date'] = pd.to_datetime(tweets['date'], errors='coerce')\n",
    "tweets['date'].head()"
   ]
  },
  {
   "cell_type": "code",
   "execution_count": null,
   "metadata": {},
   "outputs": [],
   "source": [
    "# verificando o intervalo do período\n",
    "print(f'max date: {tweets.date.max()} \\nmin date: {tweets.date.min()}')"
   ]
  },
  {
   "cell_type": "code",
   "execution_count": null,
   "metadata": {},
   "outputs": [],
   "source": [
    "# Verificar se houve algum dia ou horário onde tiveram mais mensagens\n",
    "tweets['day'] = tweets['date'].dt.date\n",
    "tweets['hour'] = tweets['date'].dt.hour"
   ]
  },
  {
   "cell_type": "markdown",
   "metadata": {},
   "source": [
    "---"
   ]
  },
  {
   "cell_type": "code",
   "execution_count": 18,
   "metadata": {},
   "outputs": [
    {
     "name": "stdout",
     "output_type": "stream",
     "text": [
      "2022-10-28\n",
      "2022\n",
      "10\n",
      "28\n",
      "5\n",
      "4\n"
     ]
    }
   ],
   "source": [
    "dt = datetime.date.today()\n",
    "print(dt)\n",
    "print(dt.year)\n",
    "print(dt.month)\n",
    "print(dt.day)\n",
    "print(dt.isoweekday())   # monday = 1\n",
    "print(dt.weekday())      # monday = 0"
   ]
  },
  {
   "cell_type": "code",
   "execution_count": 8,
   "metadata": {},
   "outputs": [
    {
     "name": "stdout",
     "output_type": "stream",
     "text": [
      "28/10/2022\n",
      "Oct 28, 2022\n",
      "October 28, 2022\n",
      "Fri October 28, 2022\n",
      "Friday October 28, 2022\n"
     ]
    }
   ],
   "source": [
    "# %a \tWeekday, short version \tWed \t\n",
    "# %A \tWeekday, full version \tWednesday \t\n",
    "# %w \tWeekday as a number 0-6, 0 is Sunday \t3 \t\n",
    "# %d \tDay of month 01-31 \t31 \t\n",
    "# %b \tMonth name, short version \tDec \t\n",
    "# %B \tMonth name, full version \tDecember \t\n",
    "# %m \tMonth as a number 01-12 \t12 \t\n",
    "# %y \tYear, short version, without century \t18 \t\n",
    "# %Y \tYear, full version \t2018\n",
    "# %j \tDay number of year 001-366 \t365 \t\n",
    "# %U \tWeek number of year, Sunday as the first day of week, 00-53 \t52 \t\n",
    "# %W \tWeek number of year, Monday as the first day of week, 00-53 \t52 \t\n",
    "# %c \tLocal version of date and time \tMon Dec 31 17:41:00 2018 \t\n",
    "# %C \tCentury \t20 \t\n",
    "# %x \tLocal version of date \t12/31/18 \t\n",
    "# %X \tLocal version of time \t17:41:00\n",
    "# %G \tISO 8601 year \t2018 \t\n",
    "# %u \tISO 8601 weekday (1-7) \t1 \t\n",
    "# %V \tISO 8601 weeknumber (01-53) \t01\n",
    "\n",
    "print(dt.strftime(\"%d/%m/%Y\"))\n",
    "print(dt.strftime(\"%b %d, %Y\"))\n",
    "print(dt.strftime(\"%B %d, %Y\"))\n",
    "print(dt.strftime(\"%a %B %d, %Y\"))\n",
    "print(dt.strftime(\"%A %B %d, %Y\"))"
   ]
  },
  {
   "cell_type": "code",
   "execution_count": 10,
   "metadata": {},
   "outputs": [
    {
     "name": "stdout",
     "output_type": "stream",
     "text": [
      "21:02:03\n",
      "21\n",
      "2\n",
      "3\n",
      "0\n"
     ]
    }
   ],
   "source": [
    "t = datetime.time(21, 2, 3)\n",
    "print(t)\n",
    "print(t.hour)\n",
    "print(t.minute)\n",
    "print(t.second)\n",
    "print(t.microsecond)"
   ]
  },
  {
   "cell_type": "code",
   "execution_count": 11,
   "metadata": {},
   "outputs": [
    {
     "name": "stdout",
     "output_type": "stream",
     "text": [
      "09:02 PM\n"
     ]
    }
   ],
   "source": [
    "# %H \tHour 00-23 \t17 \t\n",
    "# %I \tHour 00-12 \t05 \t\n",
    "# %p \tAM/PM \tPM \t\n",
    "# %M \tMinute 00-59 \t41 \t\n",
    "# %S \tSecond 00-59 \t08 \t\n",
    "# %f \tMicrosecond 000000-999999 \t548513 \t\n",
    "# %z \tUTC offset \t+0100 \t\n",
    "# %Z \tTimezone \tCST\n",
    "\n",
    "print(t.strftime(\"%I:%M %p\"))"
   ]
  },
  {
   "cell_type": "code",
   "execution_count": 13,
   "metadata": {},
   "outputs": [
    {
     "name": "stdout",
     "output_type": "stream",
     "text": [
      "2022-10-28 07:30:22.720579\n"
     ]
    }
   ],
   "source": [
    "dt2 = datetime.datetime.now()\n",
    "print(dt2)"
   ]
  },
  {
   "cell_type": "code",
   "execution_count": 14,
   "metadata": {},
   "outputs": [
    {
     "name": "stdout",
     "output_type": "stream",
     "text": [
      "Fri Oct 28 07:30:22 2022\n",
      "Friday October 28 07:30:22\n",
      "Friday October 28 07:30\n"
     ]
    }
   ],
   "source": [
    "# %c represents locale date and time.\n",
    "# %X represents locale time. \n",
    "print(dt2.strftime(\"%c\"))\n",
    "print(dt2.strftime(\"%A %B %d %X\"))\n",
    "print(dt2.strftime(\"%A %B %d %H:%M\"))"
   ]
  },
  {
   "cell_type": "code",
   "execution_count": 15,
   "metadata": {},
   "outputs": [
    {
     "name": "stdout",
     "output_type": "stream",
     "text": [
      "2022-10-28 10:51:00\n"
     ]
    }
   ],
   "source": [
    "dt3 = datetime.datetime(2022, 10, 28, 10, 51, 0)\n",
    "print(dt3)"
   ]
  },
  {
   "cell_type": "code",
   "execution_count": 24,
   "metadata": {},
   "outputs": [
    {
     "name": "stdout",
     "output_type": "stream",
     "text": [
      "2022-10-28 10:51:00\n",
      "+30d \t\t\t 2022-11-27 10:51:00\n",
      "-30d \t\t\t 2022-09-28 10:51:00\n",
      "+10d 3h 30min 30s \t 2022-11-07 14:21:30\n",
      "+4w 3h 30min 30s \t 2022-11-25 14:21:30\n"
     ]
    }
   ],
   "source": [
    "print(dt3)\n",
    "#30 days ahead\n",
    "delta = datetime.timedelta(days=30)\n",
    "print('+30d \\t\\t\\t', dt3 + delta)\n",
    "\n",
    "#30 days back\n",
    "print('-30d \\t\\t\\t',dt3 - delta)\n",
    "\n",
    "delta = datetime.timedelta(days= 10, hours=3, minutes=30, seconds=30)\n",
    "print('+10d 3h 30min 30s \\t', dt3 + delta)\n",
    "\n",
    "delta = datetime.timedelta(weeks= 4, hours=3, minutes=30, seconds=30)\n",
    "print('+4w 3h 30min 30s \\t', dt3 + delta)"
   ]
  },
  {
   "cell_type": "code",
   "execution_count": 27,
   "metadata": {},
   "outputs": [
    {
     "name": "stdout",
     "output_type": "stream",
     "text": [
      "304\n"
     ]
    }
   ],
   "source": [
    "date1 = datetime.date(2022, 10, 25)\n",
    "date2 = datetime.date(2021, 12, 25)\n",
    "diff = date1- date2\n",
    "\n",
    "print(diff.days)"
   ]
  },
  {
   "cell_type": "markdown",
   "metadata": {},
   "source": [
    "---"
   ]
  },
  {
   "cell_type": "code",
   "execution_count": 61,
   "metadata": {},
   "outputs": [
    {
     "data": {
      "text/plain": [
       "A_            object\n",
       "B_            object\n",
       "A     datetime64[ns]\n",
       "B     datetime64[ns]\n",
       "dtype: object"
      ]
     },
     "execution_count": 61,
     "metadata": {},
     "output_type": "execute_result"
    }
   ],
   "source": [
    "df=pd.DataFrame({\"A_\":[\"2019-01-01\", \"2019-02-03\", \"2019-07-03\"],\n",
    "                 \"B_\":[\"2019-03-02\", \"2019-08-01\", \"2019-10-01\"] })\n",
    "\n",
    "df['A'] = pd.to_datetime(df['A_'])\n",
    "df['B'] = pd.to_datetime(df['B_'])\n",
    "df.dtypes"
   ]
  },
  {
   "cell_type": "code",
   "execution_count": 62,
   "metadata": {},
   "outputs": [
    {
     "data": {
      "text/html": [
       "<div>\n",
       "<style scoped>\n",
       "    .dataframe tbody tr th:only-of-type {\n",
       "        vertical-align: middle;\n",
       "    }\n",
       "\n",
       "    .dataframe tbody tr th {\n",
       "        vertical-align: top;\n",
       "    }\n",
       "\n",
       "    .dataframe thead th {\n",
       "        text-align: right;\n",
       "    }\n",
       "</style>\n",
       "<table border=\"1\" class=\"dataframe\">\n",
       "  <thead>\n",
       "    <tr style=\"text-align: right;\">\n",
       "      <th></th>\n",
       "      <th>A_</th>\n",
       "      <th>B_</th>\n",
       "      <th>A</th>\n",
       "      <th>B</th>\n",
       "      <th>C</th>\n",
       "      <th>D</th>\n",
       "      <th>E</th>\n",
       "      <th>F</th>\n",
       "    </tr>\n",
       "  </thead>\n",
       "  <tbody>\n",
       "    <tr>\n",
       "      <th>0</th>\n",
       "      <td>2019-01-01</td>\n",
       "      <td>2019-03-02</td>\n",
       "      <td>2019-01-01</td>\n",
       "      <td>2019-03-02</td>\n",
       "      <td>60 days</td>\n",
       "      <td>60</td>\n",
       "      <td>2018-12-02</td>\n",
       "      <td>2019-06-02</td>\n",
       "    </tr>\n",
       "    <tr>\n",
       "      <th>1</th>\n",
       "      <td>2019-02-03</td>\n",
       "      <td>2019-08-01</td>\n",
       "      <td>2019-02-03</td>\n",
       "      <td>2019-08-01</td>\n",
       "      <td>179 days</td>\n",
       "      <td>179</td>\n",
       "      <td>2019-05-01</td>\n",
       "      <td>2019-11-01</td>\n",
       "    </tr>\n",
       "    <tr>\n",
       "      <th>2</th>\n",
       "      <td>2019-07-03</td>\n",
       "      <td>2019-10-01</td>\n",
       "      <td>2019-07-03</td>\n",
       "      <td>2019-10-01</td>\n",
       "      <td>90 days</td>\n",
       "      <td>90</td>\n",
       "      <td>2019-07-01</td>\n",
       "      <td>2020-01-01</td>\n",
       "    </tr>\n",
       "  </tbody>\n",
       "</table>\n",
       "</div>"
      ],
      "text/plain": [
       "           A_          B_          A          B        C    D          E  \\\n",
       "0  2019-01-01  2019-03-02 2019-01-01 2019-03-02  60 days   60 2018-12-02   \n",
       "1  2019-02-03  2019-08-01 2019-02-03 2019-08-01 179 days  179 2019-05-01   \n",
       "2  2019-07-03  2019-10-01 2019-07-03 2019-10-01  90 days   90 2019-07-01   \n",
       "\n",
       "           F  \n",
       "0 2019-06-02  \n",
       "1 2019-11-01  \n",
       "2 2020-01-01  "
      ]
     },
     "execution_count": 62,
     "metadata": {},
     "output_type": "execute_result"
    }
   ],
   "source": [
    "df['C'] = df['B'] - df['A']\n",
    "df['D'] = (df['B'] - df['A']).dt.days\n",
    "df['E'] = df['B'] - pd.DateOffset(months=3)\n",
    "df['F'] = df['B'] - pd.DateOffset(months=-3)\n",
    "df"
   ]
  },
  {
   "cell_type": "code",
   "execution_count": 64,
   "metadata": {},
   "outputs": [
    {
     "data": {
      "text/html": [
       "<div>\n",
       "<style scoped>\n",
       "    .dataframe tbody tr th:only-of-type {\n",
       "        vertical-align: middle;\n",
       "    }\n",
       "\n",
       "    .dataframe tbody tr th {\n",
       "        vertical-align: top;\n",
       "    }\n",
       "\n",
       "    .dataframe thead th {\n",
       "        text-align: right;\n",
       "    }\n",
       "</style>\n",
       "<table border=\"1\" class=\"dataframe\">\n",
       "  <thead>\n",
       "    <tr style=\"text-align: right;\">\n",
       "      <th></th>\n",
       "      <th>A</th>\n",
       "      <th>B</th>\n",
       "      <th>C</th>\n",
       "      <th>D</th>\n",
       "      <th>E</th>\n",
       "      <th>F</th>\n",
       "      <th>A_day</th>\n",
       "      <th>A_mth</th>\n",
       "      <th>A_year</th>\n",
       "      <th>A_qtr</th>\n",
       "      <th>A_dName</th>\n",
       "      <th>A_doW</th>\n",
       "      <th>A_doY</th>\n",
       "      <th>A_diM</th>\n",
       "      <th>A_mName</th>\n",
       "      <th>A_YQ</th>\n",
       "      <th>A_YM</th>\n",
       "      <th>A_YW</th>\n",
       "      <th>A_Yw.</th>\n",
       "    </tr>\n",
       "  </thead>\n",
       "  <tbody>\n",
       "    <tr>\n",
       "      <th>0</th>\n",
       "      <td>2019-01-01</td>\n",
       "      <td>2019-03-02</td>\n",
       "      <td>60 days</td>\n",
       "      <td>60</td>\n",
       "      <td>2018-12-02</td>\n",
       "      <td>2019-06-02</td>\n",
       "      <td>1</td>\n",
       "      <td>1</td>\n",
       "      <td>2019</td>\n",
       "      <td>1</td>\n",
       "      <td>Tuesday</td>\n",
       "      <td>1</td>\n",
       "      <td>1</td>\n",
       "      <td>31</td>\n",
       "      <td>January</td>\n",
       "      <td>2019Q1</td>\n",
       "      <td>2019-01</td>\n",
       "      <td>2018-12-31/2019-01-06</td>\n",
       "      <td>19_01</td>\n",
       "    </tr>\n",
       "    <tr>\n",
       "      <th>1</th>\n",
       "      <td>2019-02-03</td>\n",
       "      <td>2019-08-01</td>\n",
       "      <td>179 days</td>\n",
       "      <td>179</td>\n",
       "      <td>2019-05-01</td>\n",
       "      <td>2019-11-01</td>\n",
       "      <td>3</td>\n",
       "      <td>2</td>\n",
       "      <td>2019</td>\n",
       "      <td>1</td>\n",
       "      <td>Sunday</td>\n",
       "      <td>6</td>\n",
       "      <td>34</td>\n",
       "      <td>28</td>\n",
       "      <td>February</td>\n",
       "      <td>2019Q1</td>\n",
       "      <td>2019-02</td>\n",
       "      <td>2019-01-28/2019-02-03</td>\n",
       "      <td>19_05</td>\n",
       "    </tr>\n",
       "    <tr>\n",
       "      <th>2</th>\n",
       "      <td>2019-07-03</td>\n",
       "      <td>2019-10-01</td>\n",
       "      <td>90 days</td>\n",
       "      <td>90</td>\n",
       "      <td>2019-07-01</td>\n",
       "      <td>2020-01-01</td>\n",
       "      <td>3</td>\n",
       "      <td>7</td>\n",
       "      <td>2019</td>\n",
       "      <td>3</td>\n",
       "      <td>Wednesday</td>\n",
       "      <td>2</td>\n",
       "      <td>184</td>\n",
       "      <td>31</td>\n",
       "      <td>July</td>\n",
       "      <td>2019Q3</td>\n",
       "      <td>2019-07</td>\n",
       "      <td>2019-07-01/2019-07-07</td>\n",
       "      <td>19_27</td>\n",
       "    </tr>\n",
       "  </tbody>\n",
       "</table>\n",
       "</div>"
      ],
      "text/plain": [
       "           A          B        C    D          E          F  A_day  A_mth  \\\n",
       "0 2019-01-01 2019-03-02  60 days   60 2018-12-02 2019-06-02      1      1   \n",
       "1 2019-02-03 2019-08-01 179 days  179 2019-05-01 2019-11-01      3      2   \n",
       "2 2019-07-03 2019-10-01  90 days   90 2019-07-01 2020-01-01      3      7   \n",
       "\n",
       "   A_year  A_qtr    A_dName  A_doW  A_doY  A_diM   A_mName    A_YQ     A_YM  \\\n",
       "0    2019      1    Tuesday      1      1     31   January  2019Q1  2019-01   \n",
       "1    2019      1     Sunday      6     34     28  February  2019Q1  2019-02   \n",
       "2    2019      3  Wednesday      2    184     31      July  2019Q3  2019-07   \n",
       "\n",
       "                    A_YW  A_Yw.  \n",
       "0  2018-12-31/2019-01-06  19_01  \n",
       "1  2019-01-28/2019-02-03  19_05  \n",
       "2  2019-07-01/2019-07-07  19_27  "
      ]
     },
     "execution_count": 64,
     "metadata": {},
     "output_type": "execute_result"
    }
   ],
   "source": [
    "df.drop(columns=['A_', 'B_'], inplace=True)\n",
    "df['A_day'] = df['A'].dt.day\n",
    "df['A_mth'] = df['A'].dt.month\n",
    "df['A_year'] = df['A'].dt.year\n",
    "df['A_qtr'] = df['A'].dt.quarter\n",
    "df['A_dName'] = df['A'].dt.day_name()\n",
    "df['A_doW'] = df['A'].dt.dayofweek\n",
    "df['A_doY'] = df['A'].dt.dayofyear\n",
    "df['A_diM'] = df['A'].dt.daysinmonth\n",
    "df['A_mName'] = df['A'].dt.month_name()\n",
    "df['A_YQ'] = df['A'].dt.to_period('Q')\n",
    "df['A_YM'] = df['A'].dt.to_period('M')\n",
    "df['A_YW'] = df['A'].dt.to_period('W')\n",
    "df['A_Yw.'] = df['A'].dt.strftime('%y_%V')\n",
    "\n",
    "df"
   ]
  },
  {
   "cell_type": "code",
   "execution_count": 68,
   "metadata": {},
   "outputs": [
    {
     "data": {
      "text/html": [
       "<div>\n",
       "<style scoped>\n",
       "    .dataframe tbody tr th:only-of-type {\n",
       "        vertical-align: middle;\n",
       "    }\n",
       "\n",
       "    .dataframe tbody tr th {\n",
       "        vertical-align: top;\n",
       "    }\n",
       "\n",
       "    .dataframe thead th {\n",
       "        text-align: right;\n",
       "    }\n",
       "</style>\n",
       "<table border=\"1\" class=\"dataframe\">\n",
       "  <thead>\n",
       "    <tr style=\"text-align: right;\">\n",
       "      <th></th>\n",
       "      <th>A</th>\n",
       "      <th>B</th>\n",
       "      <th>C</th>\n",
       "      <th>D</th>\n",
       "      <th>E</th>\n",
       "      <th>F</th>\n",
       "      <th>A_day</th>\n",
       "      <th>A_mth</th>\n",
       "      <th>A_year</th>\n",
       "      <th>A_qtr</th>\n",
       "      <th>A_dName</th>\n",
       "      <th>A_doW</th>\n",
       "      <th>A_doY</th>\n",
       "      <th>A_diM</th>\n",
       "      <th>A_mName</th>\n",
       "      <th>A_YQ</th>\n",
       "      <th>A_YM</th>\n",
       "      <th>A_YW</th>\n",
       "      <th>A_Yw.</th>\n",
       "    </tr>\n",
       "  </thead>\n",
       "  <tbody>\n",
       "    <tr>\n",
       "      <th>1</th>\n",
       "      <td>2019-02-03</td>\n",
       "      <td>2019-08-01</td>\n",
       "      <td>179 days</td>\n",
       "      <td>179</td>\n",
       "      <td>2019-05-01</td>\n",
       "      <td>2019-11-01</td>\n",
       "      <td>3</td>\n",
       "      <td>2</td>\n",
       "      <td>2019</td>\n",
       "      <td>1</td>\n",
       "      <td>Sunday</td>\n",
       "      <td>6</td>\n",
       "      <td>34</td>\n",
       "      <td>28</td>\n",
       "      <td>February</td>\n",
       "      <td>2019Q1</td>\n",
       "      <td>2019-02</td>\n",
       "      <td>2019-01-28/2019-02-03</td>\n",
       "      <td>19_05</td>\n",
       "    </tr>\n",
       "  </tbody>\n",
       "</table>\n",
       "</div>"
      ],
      "text/plain": [
       "           A          B        C    D          E          F  A_day  A_mth  \\\n",
       "1 2019-02-03 2019-08-01 179 days  179 2019-05-01 2019-11-01      3      2   \n",
       "\n",
       "   A_year  A_qtr A_dName  A_doW  A_doY  A_diM   A_mName    A_YQ     A_YM  \\\n",
       "1    2019      1  Sunday      6     34     28  February  2019Q1  2019-02   \n",
       "\n",
       "                    A_YW  A_Yw.  \n",
       "1  2019-01-28/2019-02-03  19_05  "
      ]
     },
     "execution_count": 68,
     "metadata": {},
     "output_type": "execute_result"
    }
   ],
   "source": [
    "date_from = pd.Timestamp(datetime.date(2019,1,15))\n",
    "date_to = pd.Timestamp(datetime.date(2019,3,1))\n",
    "\n",
    "df[ (df['A'] > date_from) &\n",
    "    (df['A'] < date_to)]"
   ]
  },
  {
   "cell_type": "code",
   "execution_count": null,
   "metadata": {},
   "outputs": [],
   "source": []
  }
 ],
 "metadata": {
  "kernelspec": {
   "display_name": "Python 3.9.7 64-bit",
   "language": "python",
   "name": "python3"
  },
  "language_info": {
   "codemirror_mode": {
    "name": "ipython",
    "version": 3
   },
   "file_extension": ".py",
   "mimetype": "text/x-python",
   "name": "python",
   "nbconvert_exporter": "python",
   "pygments_lexer": "ipython3",
   "version": "3.9.7"
  },
  "orig_nbformat": 4,
  "vscode": {
   "interpreter": {
    "hash": "c0d3f0ed3089cd13411b5a2ebe388e4aa58e262e30ca5148dcd7bf493791b26c"
   }
  }
 },
 "nbformat": 4,
 "nbformat_minor": 2
}
