{
 "cells": [
  {
   "cell_type": "code",
   "execution_count": 1,
   "metadata": {},
   "outputs": [],
   "source": [
    "import time\n",
    "import pyperclip\n",
    "import pyautogui"
   ]
  },
  {
   "cell_type": "code",
   "execution_count": 48,
   "metadata": {},
   "outputs": [
    {
     "data": {
      "text/plain": [
       "'OK'"
      ]
     },
     "execution_count": 48,
     "metadata": {},
     "output_type": "execute_result"
    }
   ],
   "source": [
    "# pos inicial = x=-998, y=181\n",
    "# pos final = x=-91, y=735\n",
    "# \n",
    "# espera um tempo para deixar nos esquema\n",
    "time.sleep(10)\n",
    "start = 45\n",
    "slides = 73\n",
    "\n",
    "for x in range(start,slides+1):\n",
    "    # copiar tela  \n",
    "    #pyautogui.moveTo(370, 175)   # mesma tela\n",
    "    pyautogui.moveTo(-998, 181)   # 2 telas\n",
    "    time.sleep(0.5)\n",
    "    pyautogui.hotkey('win','shift', 's')\n",
    "    time.sleep(2)  \n",
    "    #pyautogui.dragTo(1277, 732, button='left', duration= 0.5)   # mesma tela\n",
    "    pyautogui.dragTo(-91, 735, button='left', duration= 0.5)   # 2 telas\n",
    "    time.sleep(0.5)\n",
    "    # clicar próxima tela = x=-203, y=201\n",
    "    #pyautogui.click(1163, 199)   # mesma tela\n",
    "    pyautogui.click(-203, 201)   # 2 telas\n",
    "    time.sleep(0.5)\n",
    "    # alt + tab > ppt\n",
    "    pyautogui.hotkey('alt','tab')\n",
    "    time.sleep(0.5)\n",
    "    # colar\n",
    "    pyautogui.hotkey('ctrl','v')\n",
    "    # próximo slide\n",
    "    pyautogui.press('pgdn')\n",
    "    # alt + tab > site\n",
    "    pyautogui.hotkey('alt','tab')\n",
    "    time.sleep(0.5)\n",
    "\n",
    "pyautogui.alert(\"FInalizado\")"
   ]
  },
  {
   "cell_type": "code",
   "execution_count": 34,
   "metadata": {},
   "outputs": [
    {
     "name": "stdout",
     "output_type": "stream",
     "text": [
      "Point(x=1277, y=732)\n"
     ]
    },
    {
     "data": {
      "text/plain": [
       "'OK'"
      ]
     },
     "execution_count": 34,
     "metadata": {},
     "output_type": "execute_result"
    }
   ],
   "source": [
    "import pyautogui\n",
    "import time\n",
    "time.sleep(5)\n",
    "print(pyautogui.position())\n",
    "pyautogui.alert(\"Posição Registrada\")"
   ]
  }
 ],
 "metadata": {
  "kernelspec": {
   "display_name": "Python 3.9.7 64-bit",
   "language": "python",
   "name": "python3"
  },
  "language_info": {
   "codemirror_mode": {
    "name": "ipython",
    "version": 3
   },
   "file_extension": ".py",
   "mimetype": "text/x-python",
   "name": "python",
   "nbconvert_exporter": "python",
   "pygments_lexer": "ipython3",
   "version": "3.9.7"
  },
  "orig_nbformat": 4,
  "vscode": {
   "interpreter": {
    "hash": "c0d3f0ed3089cd13411b5a2ebe388e4aa58e262e30ca5148dcd7bf493791b26c"
   }
  }
 },
 "nbformat": 4,
 "nbformat_minor": 2
}
